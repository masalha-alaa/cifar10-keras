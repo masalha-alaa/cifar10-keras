{
  "nbformat": 4,
  "nbformat_minor": 0,
  "metadata": {
    "colab": {
      "name": "cifar10_keras.ipynb",
      "provenance": [],
      "collapsed_sections": [],
      "include_colab_link": true
    },
    "kernelspec": {
      "name": "python3",
      "display_name": "Python 3"
    },
    "language_info": {
      "name": "python"
    },
    "accelerator": "GPU"
  },
  "cells": [
    {
      "cell_type": "markdown",
      "metadata": {
        "id": "view-in-github",
        "colab_type": "text"
      },
      "source": [
        "<a href=\"https://colab.research.google.com/github/masalha-alaa/cifar10-keras/blob/master/cifar10_keras.ipynb\" target=\"_parent\"><img src=\"https://colab.research.google.com/assets/colab-badge.svg\" alt=\"Open In Colab\"/></a>"
      ]
    },
    {
      "cell_type": "code",
      "metadata": {
        "id": "p5_S_UwIAnlF"
      },
      "source": [
        "from sklearn.model_selection import train_test_split\n",
        "from sklearn.preprocessing import StandardScaler, OneHotEncoder\n",
        "from sklearn.metrics import accuracy_score\n",
        "from sklearn.compose import make_column_transformer\n",
        "from sklearn.utils import shuffle\n",
        "import tensorflow as tf\n",
        "from tensorflow.keras.utils import to_categorical\n",
        "from tensorflow import keras\n",
        "from tensorflow.keras import callbacks, layers\n",
        "from keras.preprocessing.image import ImageDataGenerator\n",
        "from keras.optimizers import SGD\n",
        "from keras.applications.mobilenet_v2 import preprocess_input\n",
        "import numpy as np\n",
        "import pandas as pd\n",
        "from matplotlib import pyplot as plt\n",
        "\n",
        "# %matplotlib inline\n",
        "\n",
        "SEED = 42"
      ],
      "execution_count": 30,
      "outputs": []
    },
    {
      "cell_type": "code",
      "metadata": {
        "colab": {
          "base_uri": "https://localhost:8080/"
        },
        "id": "4Kpqry6-WBlC",
        "outputId": "a47af0b0-0377-48c2-b13a-99548768bab5"
      },
      "source": [
        "physical_devices = tf.config.list_physical_devices('GPU')\n",
        "if physical_devices:\n",
        "    tf.config.experimental.set_memory_growth(physical_devices[0], True)\n",
        "    print('Running on GPU')\n",
        "else:\n",
        "    print('Running on CPU')"
      ],
      "execution_count": 31,
      "outputs": [
        {
          "output_type": "stream",
          "text": [
            "Running on GPU\n"
          ],
          "name": "stdout"
        }
      ]
    },
    {
      "cell_type": "markdown",
      "metadata": {
        "id": "bcq3i8ElU2Rs"
      },
      "source": [
        "# Load the dataset"
      ]
    },
    {
      "cell_type": "code",
      "metadata": {
        "colab": {
          "base_uri": "https://localhost:8080/"
        },
        "id": "ozg403WrU10E",
        "outputId": "9083b546-137c-48db-f85c-525ed384ad41"
      },
      "source": [
        "(x_train, y_train), (x_test, y_test) = keras.datasets.cifar10.load_data()\n",
        "\n",
        "# Split to training / test sets (we'll let keras make a validation set automatically from the training set)\n",
        "x_train, y_train = shuffle(x_train, y_train, random_state=SEED)  # shuffle in unison\n",
        "x_test, y_test = shuffle(x_test, y_test, random_state=SEED)  # shuffle in unison\n",
        "y_train_cat, y_test_cat = to_categorical(y_train), to_categorical(y_test)\n",
        "print(f'Classes:')\n",
        "classes_lbls, classes_cnts = np.unique(y_train, return_counts=True)  # => data is balanced. 5K from each class\n",
        "NUM_CLASSES = len(classes_lbls)\n",
        "print(classes_lbls)\n",
        "print(classes_cnts)"
      ],
      "execution_count": 32,
      "outputs": [
        {
          "output_type": "stream",
          "text": [
            "Classes:\n",
            "[0 1 2 3 4 5 6 7 8 9]\n",
            "[5000 5000 5000 5000 5000 5000 5000 5000 5000 5000]\n"
          ],
          "name": "stdout"
        }
      ]
    },
    {
      "cell_type": "code",
      "metadata": {
        "id": "hKeaTytIayCr"
      },
      "source": [
        "classes = {0: 'airplane', 1: 'automobile', 2: 'bird', 3: 'cat', 4: 'deer', 5: 'dog', 6: 'frog', 7: 'horse', 8: 'ship', 9: 'truck'}\n",
        "\n",
        "def lbl_code_to_class(label):\n",
        "    return classes.get(label)\n",
        "\n",
        "def class_to_lbl_code(class_name):\n",
        "    for k,v in classes.items():\n",
        "        if v == class_name:\n",
        "            return k\n",
        "    return None\n",
        "\n",
        "y_train_lbls, y_test_lbls = np.array(list(map(lbl_code_to_class, y_train.flatten()))), np.array(list(map(lbl_code_to_class, y_test.flatten())))"
      ],
      "execution_count": 33,
      "outputs": []
    },
    {
      "cell_type": "markdown",
      "metadata": {
        "id": "mIbL214oWiCY"
      },
      "source": [
        "## Peek at the data"
      ]
    },
    {
      "cell_type": "code",
      "metadata": {
        "colab": {
          "base_uri": "https://localhost:8080/",
          "height": 392
        },
        "id": "NxLJ3eHPWk7c",
        "outputId": "68559111-cb5d-4e0a-e19a-9317e24b87df"
      },
      "source": [
        "SAMPLE_IMG_IDS = np.random.randint(0, min(len(y_test), len(y_train)), 10)\n",
        "\n",
        "print(f'Training data: {len(x_train)}')\n",
        "print(f'Test data: {len(x_test)}')\n",
        "IMAGE_SHAPE = x_train[0].shape\n",
        "print(f'Image shape: {IMAGE_SHAPE}, Type: {type(x_train[0])}, Pixel type: {type(x_train[0][0][0][0])}')\n",
        "\n",
        "print('Examples:')\n",
        "fig = plt.figure(figsize=(15, 5))\n",
        "fig.tight_layout(pad=1.0)\n",
        "for i,idx in enumerate(SAMPLE_IMG_IDS):\n",
        "    plt.subplot(2,5,i+1)\n",
        "    plt.imshow(x_train[idx])\n",
        "    plt.title(y_train_lbls[idx])\n",
        "    plt.axis(False)\n",
        "\n",
        "plt.show()"
      ],
      "execution_count": 34,
      "outputs": [
        {
          "output_type": "stream",
          "text": [
            "Training data: 50000\n",
            "Test data: 10000\n",
            "Image shape: (32, 32, 3), Type: <class 'numpy.ndarray'>, Pixel type: <class 'numpy.uint8'>\n",
            "Examples:\n"
          ],
          "name": "stdout"
        },
        {
          "output_type": "display_data",
          "data": {
            "image/png": "[encoded data removed]",
            "text/plain": [
              "<Figure size 1080x360 with 10 Axes>"
            ]
          },
          "metadata": {
            "tags": [],
            "needs_background": "light"
          }
        }
      ]
    },
    {
      "cell_type": "code",
      "metadata": {
        "id": "f6ZJbMlNW0ig"
      },
      "source": [
        "# Scale by dividing by 255 or using a scaler\n",
        "x_train = x_train.astype('float32') / 255.0\n",
        "x_test = x_test.astype('float32') / 255.0"
      ],
      "execution_count": 35,
      "outputs": []
    },
    {
      "cell_type": "markdown",
      "metadata": {
        "id": "pLMSWdTHu-iT"
      },
      "source": [
        "# Model"
      ]
    },
    {
      "cell_type": "code",
      "metadata": {
        "colab": {
          "base_uri": "https://localhost:8080/"
        },
        "id": "q3CTId_7iMKc",
        "outputId": "9d7ccf2a-494d-40c1-b2a3-c4b53cb35e29"
      },
      "source": [
        "BATCH_SIZE = 64\n",
        "EPOCHS = 70\n",
        "VAL_SPLIT = 0.15\n",
        "\n",
        "# y = to_categorical(y_train, NUM_CLASSES)\n",
        "# Some info about categorical_crossentropy / sparse_categorical_crossentropy etc.:\n",
        "# https://datascience.stackexchange.com/questions/41921/sparse-categorical-crossentropy-vs-categorical-crossentropy-keras-accuracy\n",
        "# https://stackoverflow.com/questions/58565394/what-is-the-difference-between-sparse-categorical-crossentropy-and-categorical-c\n",
        "\n",
        "early_stopping_callback = keras.callbacks.EarlyStopping(\n",
        "    patience=10,\n",
        "    min_delta=0.001,\n",
        "    restore_best_weights=True,\n",
        ")\n",
        "\n",
        "reduce_lr_callback = tf.keras.callbacks.ReduceLROnPlateau(monitor='val_loss', factor=0.5, patience=5)\n",
        "\n",
        "model = keras.Sequential([\n",
        "    keras.layers.InputLayer(IMAGE_SHAPE),\n",
        "    layers.Conv2D(32, 3, padding='same', activation='relu'),\n",
        "    layers.MaxPool2D(2),\n",
        "    layers.Dropout(0.3),\n",
        "\n",
        "    layers.Conv2D(64, 3, padding='same', activation='relu'),\n",
        "    layers.MaxPool2D(2),\n",
        "    layers.Dropout(0.3),\n",
        "\n",
        "    layers.Conv2D(128, 3, padding='same', activation='relu'),\n",
        "    layers.MaxPool2D(2),\n",
        "    layers.Dropout(0.3),\n",
        "\n",
        "    layers.Flatten(),\n",
        "\n",
        "    layers.Dense(1024, activation='relu'),\n",
        "    layers.Dropout(0.3),\n",
        "\n",
        "    layers.Dense(1024, activation='relu'),\n",
        "    layers.Dropout(0.3),\n",
        "\n",
        "    layers.Dense(NUM_CLASSES, activation='softmax')\n",
        "])\n",
        "\n",
        "print(model.summary(), end='\\n\\n')\n",
        "\n",
        "loss = keras.losses.SparseCategoricalCrossentropy()\n",
        "# loss = keras.losses.CategoricalCrossentropy()\n",
        "model.compile(optimizer='adam', loss=loss, metrics=['accuracy'])"
      ],
      "execution_count": 36,
      "outputs": [
        {
          "output_type": "stream",
          "text": [
            "Model: \"sequential_2\"\n",
            "_________________________________________________________________\n",
            "Layer (type)                 Output Shape              Param #   \n",
            "=================================================================\n",
            "conv2d_7 (Conv2D)            (None, 32, 32, 32)        896       \n",
            "_________________________________________________________________\n",
            "max_pooling2d_7 (MaxPooling2 (None, 16, 16, 32)        0         \n",
            "_________________________________________________________________\n",
            "dropout_11 (Dropout)         (None, 16, 16, 32)        0         \n",
            "_________________________________________________________________\n",
            "conv2d_8 (Conv2D)            (None, 16, 16, 64)        18496     \n",
            "_________________________________________________________________\n",
            "max_pooling2d_8 (MaxPooling2 (None, 8, 8, 64)          0         \n",
            "_________________________________________________________________\n",
            "dropout_12 (Dropout)         (None, 8, 8, 64)          0         \n",
            "_________________________________________________________________\n",
            "conv2d_9 (Conv2D)            (None, 8, 8, 128)         73856     \n",
            "_________________________________________________________________\n",
            "max_pooling2d_9 (MaxPooling2 (None, 4, 4, 128)         0         \n",
            "_________________________________________________________________\n",
            "dropout_13 (Dropout)         (None, 4, 4, 128)         0         \n",
            "_________________________________________________________________\n",
            "flatten_2 (Flatten)          (None, 2048)              0         \n",
            "_________________________________________________________________\n",
            "dense_6 (Dense)              (None, 1024)              2098176   \n",
            "_________________________________________________________________\n",
            "dropout_14 (Dropout)         (None, 1024)              0         \n",
            "_________________________________________________________________\n",
            "dense_7 (Dense)              (None, 1024)              1049600   \n",
            "_________________________________________________________________\n",
            "dropout_15 (Dropout)         (None, 1024)              0         \n",
            "_________________________________________________________________\n",
            "dense_8 (Dense)              (None, 10)                10250     \n",
            "=================================================================\n",
            "Total params: 3,251,274\n",
            "Trainable params: 3,251,274\n",
            "Non-trainable params: 0\n",
            "_________________________________________________________________\n",
            "None\n",
            "\n"
          ],
          "name": "stdout"
        }
      ]
    },
    {
      "cell_type": "code",
      "metadata": {
        "colab": {
          "base_uri": "https://localhost:8080/"
        },
        "id": "3kGWY40N5ab6",
        "outputId": "fc6e8da3-69b7-4660-c09c-19d37fedd1ed"
      },
      "source": [
        "AUGMENT = True\n",
        "\n",
        "if AUGMENT:\n",
        "    # With Augmentation\n",
        "    train_datagen = ImageDataGenerator(width_shift_range=0.1, height_shift_range=0.1, horizontal_flip=True,\n",
        "                                       validation_split=0.15) # set validation split\n",
        "\n",
        "    train_generator = train_datagen.flow(\n",
        "        x_train,\n",
        "        tf.reshape(y_train, (-1)),  # needed because we used SparseCategoricalCrossentropy\n",
        "        batch_size=BATCH_SIZE,\n",
        "        subset='training') # set as training data\n",
        "\n",
        "    validation_generator = train_datagen.flow(\n",
        "        x_train,\n",
        "        tf.reshape(y_train, (-1)),  # needed because we used SparseCategoricalCrossentropy\n",
        "        batch_size=BATCH_SIZE,\n",
        "        subset='validation') # set as validation data\n",
        "\n",
        "    history = model.fit(\n",
        "        train_generator,\n",
        "        validation_data = validation_generator,\n",
        "        batch_size=BATCH_SIZE,\n",
        "        callbacks=[early_stopping_callback, reduce_lr_callback],\n",
        "        epochs = EPOCHS)\n",
        "else:\n",
        "    # Without Augmentation\n",
        "    history = model.fit(\n",
        "        x_train, y_train,\n",
        "        batch_size=BATCH_SIZE,\n",
        "        validation_split=0.15,\n",
        "        epochs=EPOCHS,\n",
        "        callbacks=[early_stopping_callback, reduce_lr_callback],\n",
        "        verbose=2,\n",
        "    )"
      ],
      "execution_count": 37,
      "outputs": [
        {
          "output_type": "stream",
          "text": [
            "Epoch 1/60\n",
            "665/665 [==============================] - 21s 31ms/step - loss: 1.6937 - accuracy: 0.3684 - val_loss: 1.4784 - val_accuracy: 0.4643\n",
            "Epoch 2/60\n",
            "665/665 [==============================] - 20s 31ms/step - loss: 1.3847 - accuracy: 0.4979 - val_loss: 1.2906 - val_accuracy: 0.5291\n",
            "Epoch 3/60\n",
            "665/665 [==============================] - 20s 31ms/step - loss: 1.2566 - accuracy: 0.5522 - val_loss: 1.0896 - val_accuracy: 0.6020\n",
            "Epoch 4/60\n",
            "665/665 [==============================] - 20s 31ms/step - loss: 1.1879 - accuracy: 0.5761 - val_loss: 1.0297 - val_accuracy: 0.6315\n",
            "Epoch 5/60\n",
            "665/665 [==============================] - 20s 31ms/step - loss: 1.1243 - accuracy: 0.6012 - val_loss: 0.9884 - val_accuracy: 0.6408\n",
            "Epoch 6/60\n",
            "665/665 [==============================] - 20s 31ms/step - loss: 1.0844 - accuracy: 0.6158 - val_loss: 0.9787 - val_accuracy: 0.6515\n",
            "Epoch 7/60\n",
            "665/665 [==============================] - 20s 30ms/step - loss: 1.0503 - accuracy: 0.6309 - val_loss: 1.0386 - val_accuracy: 0.6268\n",
            "Epoch 8/60\n",
            "665/665 [==============================] - 20s 30ms/step - loss: 1.0261 - accuracy: 0.6370 - val_loss: 0.9315 - val_accuracy: 0.6649\n",
            "Epoch 9/60\n",
            "665/665 [==============================] - 20s 30ms/step - loss: 0.9878 - accuracy: 0.6515 - val_loss: 0.8899 - val_accuracy: 0.6888\n",
            "Epoch 10/60\n",
            "665/665 [==============================] - 20s 30ms/step - loss: 0.9676 - accuracy: 0.6571 - val_loss: 0.8414 - val_accuracy: 0.7039\n",
            "Epoch 11/60\n",
            "665/665 [==============================] - 20s 30ms/step - loss: 0.9483 - accuracy: 0.6680 - val_loss: 0.8184 - val_accuracy: 0.7092\n",
            "Epoch 12/60\n",
            "665/665 [==============================] - 20s 30ms/step - loss: 0.9310 - accuracy: 0.6742 - val_loss: 0.8368 - val_accuracy: 0.7071\n",
            "Epoch 13/60\n",
            "665/665 [==============================] - 20s 30ms/step - loss: 0.9235 - accuracy: 0.6756 - val_loss: 0.8991 - val_accuracy: 0.6855\n",
            "Epoch 14/60\n",
            "665/665 [==============================] - 21s 31ms/step - loss: 0.9126 - accuracy: 0.6804 - val_loss: 0.8006 - val_accuracy: 0.7231\n",
            "Epoch 15/60\n",
            "665/665 [==============================] - 20s 30ms/step - loss: 0.9030 - accuracy: 0.6842 - val_loss: 0.7960 - val_accuracy: 0.7229\n",
            "Epoch 16/60\n",
            "665/665 [==============================] - 20s 30ms/step - loss: 0.8822 - accuracy: 0.6917 - val_loss: 0.7868 - val_accuracy: 0.7288\n",
            "Epoch 17/60\n",
            "665/665 [==============================] - 20s 31ms/step - loss: 0.8799 - accuracy: 0.6902 - val_loss: 0.7542 - val_accuracy: 0.7339\n",
            "Epoch 18/60\n",
            "665/665 [==============================] - 20s 31ms/step - loss: 0.8682 - accuracy: 0.6968 - val_loss: 0.8038 - val_accuracy: 0.7205\n",
            "Epoch 19/60\n",
            "665/665 [==============================] - 20s 31ms/step - loss: 0.8602 - accuracy: 0.6996 - val_loss: 0.7781 - val_accuracy: 0.7283\n",
            "Epoch 20/60\n",
            "665/665 [==============================] - 21s 31ms/step - loss: 0.8546 - accuracy: 0.7002 - val_loss: 0.7661 - val_accuracy: 0.7343\n",
            "Epoch 21/60\n",
            "665/665 [==============================] - 20s 30ms/step - loss: 0.8393 - accuracy: 0.7067 - val_loss: 0.7205 - val_accuracy: 0.7567\n",
            "Epoch 22/60\n",
            "665/665 [==============================] - 20s 30ms/step - loss: 0.8357 - accuracy: 0.7087 - val_loss: 0.7270 - val_accuracy: 0.7453\n",
            "Epoch 23/60\n",
            "665/665 [==============================] - 20s 30ms/step - loss: 0.8418 - accuracy: 0.7059 - val_loss: 0.7609 - val_accuracy: 0.7415\n",
            "Epoch 24/60\n",
            "665/665 [==============================] - 20s 31ms/step - loss: 0.8290 - accuracy: 0.7104 - val_loss: 0.7188 - val_accuracy: 0.7545\n",
            "Epoch 25/60\n",
            "665/665 [==============================] - 20s 30ms/step - loss: 0.8245 - accuracy: 0.7128 - val_loss: 0.7761 - val_accuracy: 0.7369\n",
            "Epoch 26/60\n",
            "665/665 [==============================] - 20s 30ms/step - loss: 0.8220 - accuracy: 0.7138 - val_loss: 0.6935 - val_accuracy: 0.7635\n",
            "Epoch 27/60\n",
            "665/665 [==============================] - 20s 30ms/step - loss: 0.8144 - accuracy: 0.7168 - val_loss: 0.7154 - val_accuracy: 0.7521\n",
            "Epoch 28/60\n",
            "665/665 [==============================] - 20s 30ms/step - loss: 0.8107 - accuracy: 0.7157 - val_loss: 0.7392 - val_accuracy: 0.7431\n",
            "Epoch 29/60\n",
            "665/665 [==============================] - 20s 31ms/step - loss: 0.8010 - accuracy: 0.7176 - val_loss: 0.7735 - val_accuracy: 0.7323\n",
            "Epoch 30/60\n",
            "665/665 [==============================] - 20s 30ms/step - loss: 0.8017 - accuracy: 0.7236 - val_loss: 0.6733 - val_accuracy: 0.7688\n",
            "Epoch 31/60\n",
            "665/665 [==============================] - 20s 30ms/step - loss: 0.8002 - accuracy: 0.7225 - val_loss: 0.7176 - val_accuracy: 0.7536\n",
            "Epoch 32/60\n",
            "665/665 [==============================] - 20s 31ms/step - loss: 0.7954 - accuracy: 0.7206 - val_loss: 0.6772 - val_accuracy: 0.7693\n",
            "Epoch 33/60\n",
            "665/665 [==============================] - 20s 30ms/step - loss: 0.7982 - accuracy: 0.7238 - val_loss: 0.7235 - val_accuracy: 0.7468\n",
            "Epoch 34/60\n",
            "665/665 [==============================] - 20s 30ms/step - loss: 0.7877 - accuracy: 0.7239 - val_loss: 0.7040 - val_accuracy: 0.7540\n",
            "Epoch 35/60\n",
            "665/665 [==============================] - 20s 31ms/step - loss: 0.7890 - accuracy: 0.7295 - val_loss: 0.6854 - val_accuracy: 0.7629\n",
            "Epoch 36/60\n",
            "665/665 [==============================] - 20s 30ms/step - loss: 0.7303 - accuracy: 0.7445 - val_loss: 0.6590 - val_accuracy: 0.7759\n",
            "Epoch 37/60\n",
            "665/665 [==============================] - 20s 31ms/step - loss: 0.7198 - accuracy: 0.7479 - val_loss: 0.6528 - val_accuracy: 0.7755\n",
            "Epoch 38/60\n",
            "665/665 [==============================] - 20s 30ms/step - loss: 0.7058 - accuracy: 0.7516 - val_loss: 0.6631 - val_accuracy: 0.7753\n",
            "Epoch 39/60\n",
            "665/665 [==============================] - 20s 30ms/step - loss: 0.6981 - accuracy: 0.7533 - val_loss: 0.6624 - val_accuracy: 0.7744\n",
            "Epoch 40/60\n",
            "665/665 [==============================] - 20s 30ms/step - loss: 0.6916 - accuracy: 0.7587 - val_loss: 0.6732 - val_accuracy: 0.7644\n",
            "Epoch 41/60\n",
            "665/665 [==============================] - 20s 30ms/step - loss: 0.6942 - accuracy: 0.7582 - val_loss: 0.6254 - val_accuracy: 0.7847\n",
            "Epoch 42/60\n",
            "665/665 [==============================] - 20s 30ms/step - loss: 0.6860 - accuracy: 0.7604 - val_loss: 0.6135 - val_accuracy: 0.7896\n",
            "Epoch 43/60\n",
            "665/665 [==============================] - 20s 30ms/step - loss: 0.6831 - accuracy: 0.7595 - val_loss: 0.6246 - val_accuracy: 0.7849\n",
            "Epoch 44/60\n",
            "665/665 [==============================] - 20s 31ms/step - loss: 0.6743 - accuracy: 0.7652 - val_loss: 0.6330 - val_accuracy: 0.7787\n",
            "Epoch 45/60\n",
            "665/665 [==============================] - 20s 30ms/step - loss: 0.6713 - accuracy: 0.7652 - val_loss: 0.6232 - val_accuracy: 0.7851\n",
            "Epoch 46/60\n",
            "665/665 [==============================] - 20s 30ms/step - loss: 0.6628 - accuracy: 0.7663 - val_loss: 0.6240 - val_accuracy: 0.7831\n",
            "Epoch 47/60\n",
            "665/665 [==============================] - 20s 30ms/step - loss: 0.6705 - accuracy: 0.7659 - val_loss: 0.6169 - val_accuracy: 0.7876\n",
            "Epoch 48/60\n",
            "665/665 [==============================] - 20s 30ms/step - loss: 0.6378 - accuracy: 0.7768 - val_loss: 0.6018 - val_accuracy: 0.7952\n",
            "Epoch 49/60\n",
            "665/665 [==============================] - 20s 30ms/step - loss: 0.6287 - accuracy: 0.7760 - val_loss: 0.5909 - val_accuracy: 0.7967\n",
            "Epoch 50/60\n",
            "665/665 [==============================] - 21s 31ms/step - loss: 0.6213 - accuracy: 0.7792 - val_loss: 0.6119 - val_accuracy: 0.7876\n",
            "Epoch 51/60\n",
            "665/665 [==============================] - 20s 30ms/step - loss: 0.6244 - accuracy: 0.7792 - val_loss: 0.5828 - val_accuracy: 0.8011\n",
            "Epoch 52/60\n",
            "665/665 [==============================] - 20s 30ms/step - loss: 0.6117 - accuracy: 0.7836 - val_loss: 0.5859 - val_accuracy: 0.7992\n",
            "Epoch 53/60\n",
            "665/665 [==============================] - 21s 31ms/step - loss: 0.6122 - accuracy: 0.7841 - val_loss: 0.5920 - val_accuracy: 0.7988\n",
            "Epoch 54/60\n",
            "665/665 [==============================] - 21s 31ms/step - loss: 0.6182 - accuracy: 0.7834 - val_loss: 0.5883 - val_accuracy: 0.8016\n",
            "Epoch 55/60\n",
            "665/665 [==============================] - 21s 31ms/step - loss: 0.6116 - accuracy: 0.7851 - val_loss: 0.6126 - val_accuracy: 0.7893\n",
            "Epoch 56/60\n",
            "665/665 [==============================] - 21s 31ms/step - loss: 0.6001 - accuracy: 0.7873 - val_loss: 0.5934 - val_accuracy: 0.7944\n",
            "Epoch 57/60\n",
            "665/665 [==============================] - 20s 30ms/step - loss: 0.5938 - accuracy: 0.7911 - val_loss: 0.5907 - val_accuracy: 0.7952\n",
            "Epoch 58/60\n",
            "665/665 [==============================] - 20s 31ms/step - loss: 0.5880 - accuracy: 0.7917 - val_loss: 0.5884 - val_accuracy: 0.8027\n",
            "Epoch 59/60\n",
            "665/665 [==============================] - 20s 31ms/step - loss: 0.5853 - accuracy: 0.7930 - val_loss: 0.5818 - val_accuracy: 0.7984\n",
            "Epoch 60/60\n",
            "665/665 [==============================] - 21s 31ms/step - loss: 0.5852 - accuracy: 0.7949 - val_loss: 0.5819 - val_accuracy: 0.8001\n"
          ],
          "name": "stdout"
        }
      ]
    },
    {
      "cell_type": "code",
      "metadata": {
        "id": "JXVtkE-ZYzzo",
        "colab": {
          "base_uri": "https://localhost:8080/"
        },
        "outputId": "d155bbf9-9660-428f-c4fe-e793ab2a9992"
      },
      "source": [
        "model.evaluate(x_test, tf.reshape(y_test, (-1)), batch_size=BATCH_SIZE, verbose=2)"
      ],
      "execution_count": 38,
      "outputs": [
        {
          "output_type": "stream",
          "text": [
            "157/157 - 1s - loss: 0.5864 - accuracy: 0.7960\n"
          ],
          "name": "stdout"
        },
        {
          "output_type": "execute_result",
          "data": {
            "text/plain": [
              "[0.586446225643158, 0.7960000038146973]"
            ]
          },
          "metadata": {
            "tags": []
          },
          "execution_count": 38
        }
      ]
    },
    {
      "cell_type": "code",
      "metadata": {
        "colab": {
          "base_uri": "https://localhost:8080/",
          "height": 563
        },
        "id": "gB0z2VC6daaB",
        "outputId": "235e90f3-bacb-4e49-fa6e-8232a2260f9f"
      },
      "source": [
        "history_df = pd.DataFrame(history.history)\n",
        "loss_ax = history_df.loc[:, ['loss', 'val_loss']].plot(title=\"Cross Entropy\")\n",
        "acc_ax = history_df.loc[:, ['accuracy', 'val_accuracy']].plot(title='Accuracy')\n",
        "loss_ax.set_ylim(0, 4)\n",
        "acc_ax.set_ylim(0, 1)"
      ],
      "execution_count": 39,
      "outputs": [
        {
          "output_type": "execute_result",
          "data": {
            "text/plain": [
              "(0.0, 1.0)"
            ]
          },
          "metadata": {
            "tags": []
          },
          "execution_count": 39
        },
        {
          "output_type": "display_data",
          "data": {
            "image/png": "[encoded data removed]",
            "text/plain": [
              "<Figure size 432x288 with 1 Axes>"
            ]
          },
          "metadata": {
            "tags": [],
            "needs_background": "light"
          }
        },
        {
          "output_type": "display_data",
          "data": {
            "image/png": "[encoded data removed]",
            "text/plain": [
              "<Figure size 432x288 with 1 Axes>"
            ]
          },
          "metadata": {
            "tags": [],
            "needs_background": "light"
          }
        }
      ]
    }
  ]
}