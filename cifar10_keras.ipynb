{
  "nbformat": 4,
  "nbformat_minor": 0,
  "metadata": {
    "colab": {
      "name": "cifar10_keras.ipynb",
      "provenance": [],
      "collapsed_sections": [],
      "include_colab_link": true
    },
    "kernelspec": {
      "name": "python3",
      "display_name": "Python 3"
    },
    "language_info": {
      "name": "python"
    },
    "accelerator": "GPU"
  },
  "cells": [
    {
      "cell_type": "markdown",
      "metadata": {
        "id": "view-in-github",
        "colab_type": "text"
      },
      "source": [
        "<a href=\"https://colab.research.google.com/github/masalha-alaa/cifar10-keras/blob/master/cifar10_keras.ipynb\" target=\"_parent\"><img src=\"https://colab.research.google.com/assets/colab-badge.svg\" alt=\"Open In Colab\"/></a>"
      ]
    },
    {
      "cell_type": "code",
      "metadata": {
        "id": "p5_S_UwIAnlF"
      },
      "source": [
        "from sklearn.utils import shuffle\n",
        "import tensorflow as tf\n",
        "from tensorflow.keras.utils import to_categorical\n",
        "from tensorflow import keras\n",
        "from tensorflow.keras import callbacks, layers\n",
        "from tensorflow.keras.preprocessing.image import ImageDataGenerator\n",
        "from tensorflow.keras.applications.mobilenet_v2 import preprocess_input\n",
        "import numpy as np\n",
        "import pandas as pd\n",
        "from matplotlib import pyplot as plt\n",
        "from enum import Enum\n",
        "import sys"
      ],
      "execution_count": null,
      "outputs": []
    },
    {
      "cell_type": "code",
      "metadata": {
        "id": "A9_rLm8dMDXx"
      },
      "source": [
        "SEED = 42\n",
        "\n",
        "CUSTOM_MODEL_NAME = 'custom_model'\n",
        "PRETRAINED_MODEL_NAME = 'pretrained_model'\n",
        "\n",
        "class ModelType(Enum):    \n",
        "    CUSTOM_MODEL = 0\n",
        "    PRETRAINED_MODEL = 1"
      ],
      "execution_count": null,
      "outputs": []
    },
    {
      "cell_type": "code",
      "metadata": {
        "id": "E5DYlLyxTtDJ"
      },
      "source": [
        "model_type_arg = sys.argv[1]\n",
        "if model_type_arg:\n",
        "    print('Received arguments.')\n",
        "    MODEL_TYPE = ModelType.CUSTOM_MODEL if model_type_arg == 'custom' else ModelType.PRETRAINED_MODEL\n",
        "else:\n",
        "    # Choose:\n",
        "    MODEL_TYPE = ModelType.CUSTOM_MODEL\n",
        "    # MODEL_TYPE = ModelType.PRETRAINED_MODEL\n",
        "\n",
        "print(f'Model Type: {model_type_arg}')"
      ],
      "execution_count": null,
      "outputs": []
    },
    {
      "cell_type": "code",
      "metadata": {
        "colab": {
          "base_uri": "https://localhost:8080/"
        },
        "id": "4Kpqry6-WBlC",
        "outputId": "931e8e13-bdb1-47a2-845e-9becd8b9963b"
      },
      "source": [
        "physical_devices = tf.config.list_physical_devices('GPU')\n",
        "if physical_devices:\n",
        "    tf.config.experimental.set_memory_growth(physical_devices[0], True)\n",
        "    print('Running on GPU')\n",
        "else:\n",
        "    print('Running on CPU')"
      ],
      "execution_count": null,
      "outputs": [
        {
          "output_type": "stream",
          "text": [
            "Running on GPU\n"
          ],
          "name": "stdout"
        }
      ]
    },
    {
      "cell_type": "markdown",
      "metadata": {
        "id": "bcq3i8ElU2Rs"
      },
      "source": [
        "# Load the dataset"
      ]
    },
    {
      "cell_type": "code",
      "metadata": {
        "colab": {
          "base_uri": "https://localhost:8080/"
        },
        "id": "ozg403WrU10E",
        "outputId": "d5ef7b68-8283-41b1-d904-9fa095f74392"
      },
      "source": [
        "(x_train, y_train), (x_test, y_test) = keras.datasets.cifar10.load_data()\n",
        "\n",
        "# Split to training / test sets (we'll let keras make a validation set automatically from the training set)\n",
        "x_train, y_train = shuffle(x_train, y_train, random_state=SEED)  # shuffle in unison\n",
        "x_test, y_test = shuffle(x_test, y_test, random_state=SEED)  # shuffle in unison (not needed for test set but doesn't hurt - maybe we'd want to use part of it as a validation set)\n",
        "print(f'Classes:')\n",
        "classes_lbls, classes_cnts = np.unique(y_train, return_counts=True)  # => data is balanced. 5K from each class\n",
        "NUM_CLASSES = len(classes_lbls)\n",
        "print(classes_lbls)\n",
        "print(classes_cnts)"
      ],
      "execution_count": null,
      "outputs": [
        {
          "output_type": "stream",
          "text": [
            "Classes:\n",
            "[0 1 2 3 4 5 6 7 8 9]\n",
            "[5000 5000 5000 5000 5000 5000 5000 5000 5000 5000]\n"
          ],
          "name": "stdout"
        }
      ]
    },
    {
      "cell_type": "code",
      "metadata": {
        "id": "hKeaTytIayCr"
      },
      "source": [
        "classes = {0: 'airplane', 1: 'automobile', 2: 'bird', 3: 'cat', 4: 'deer', 5: 'dog', 6: 'frog', 7: 'horse', 8: 'ship', 9: 'truck'}\n",
        "\n",
        "def lbl_code_to_class(label):\n",
        "    return classes.get(label)\n",
        "\n",
        "def class_to_lbl_code(class_name):\n",
        "    for k,v in classes.items():\n",
        "        if v == class_name:\n",
        "            return k\n",
        "    return None\n",
        "\n",
        "# convert codes to class names just for visualization\n",
        "y_train_lbls, y_test_lbls = np.array(list(map(lbl_code_to_class, y_train.flatten()))), np.array(list(map(lbl_code_to_class, y_test.flatten())))"
      ],
      "execution_count": null,
      "outputs": []
    },
    {
      "cell_type": "markdown",
      "metadata": {
        "id": "mIbL214oWiCY"
      },
      "source": [
        "## Peek at the data"
      ]
    },
    {
      "cell_type": "code",
      "metadata": {
        "colab": {
          "base_uri": "https://localhost:8080/",
          "height": 392
        },
        "id": "NxLJ3eHPWk7c",
        "outputId": "fd4ed9a2-61a9-4890-9cc8-78f01491f615"
      },
      "source": [
        "SAMPLE_IMG_IDS = np.random.randint(0, min(len(y_test), len(y_train)), 10)\n",
        "\n",
        "print(f'Training data: {len(x_train)}')\n",
        "print(f'Test data: {len(x_test)}')\n",
        "IMAGE_SHAPE = x_train[0].shape\n",
        "IMAGE_SHAPE_2X = (IMAGE_SHAPE[0] * 2, IMAGE_SHAPE[1] * 2, IMAGE_SHAPE[2])\n",
        "print(f'Image shape: {IMAGE_SHAPE}, Type: {type(x_train[0])}, Pixel type: {type(x_train[0][0][0][0])}')\n",
        "\n",
        "print('Examples:')\n",
        "fig = plt.figure(figsize=(15, 5))\n",
        "fig.tight_layout(pad=1.0)\n",
        "for i,idx in enumerate(SAMPLE_IMG_IDS):\n",
        "    plt.subplot(2,5,i+1)\n",
        "    plt.imshow(x_train[idx])\n",
        "    plt.title(y_train_lbls[idx])\n",
        "    plt.axis(False)\n",
        "\n",
        "plt.show()"
      ],
      "execution_count": null,
      "outputs": [
        {
          "output_type": "stream",
          "text": [
            "Training data: 50000\n",
            "Test data: 10000\n",
            "Image shape: (32, 32, 3), Type: <class 'numpy.ndarray'>, Pixel type: <class 'numpy.uint8'>\n",
            "Examples:\n"
          ],
          "name": "stdout"
        },
        {
          "output_type": "display_data",
          "data": {
            "image/png": "[encoded data removed]",
            "text/plain": [
              "<Figure size 1080x360 with 10 Axes>"
            ]
          },
          "metadata": {
            "tags": [],
            "needs_background": "light"
          }
        }
      ]
    },
    {
      "cell_type": "markdown",
      "metadata": {
        "id": "-0BC8fLiIdH5"
      },
      "source": [
        "# Model"
      ]
    },
    {
      "cell_type": "markdown",
      "metadata": {
        "id": "FKVjE9_lIe17"
      },
      "source": [
        "## Parameters"
      ]
    },
    {
      "cell_type": "code",
      "metadata": {
        "colab": {
          "base_uri": "https://localhost:8080/"
        },
        "id": "WamY8fyNIgtv",
        "outputId": "008c80f7-6daf-4a13-bbfe-19270af2382d"
      },
      "source": [
        "class LossClass(Enum):\n",
        "    SPARSE_CATEGORICAL = 0,\n",
        "    CATEGORICAL = 1\n",
        "\n",
        "\n",
        "BATCH_SIZE = 64\n",
        "EPOCHS = 65\n",
        "VAL_SPLIT = 0.15\n",
        "LOSS = LossClass.CATEGORICAL\n",
        "# LOSS = LossClass.SPARSE_CATEGORICAL\n",
        "\n",
        "if LOSS == LossClass.CATEGORICAL:\n",
        "    loss = keras.losses.CategoricalCrossentropy()\n",
        "    y_train = to_categorical(y_train, NUM_CLASSES)\n",
        "    y_test = to_categorical(y_test, NUM_CLASSES)\n",
        "else:\n",
        "    loss = keras.losses.SparseCategoricalCrossentropy()\n",
        "    y_train = tf.reshape(y_train, (-1))\n",
        "    y_test = tf.reshape(y_test, (-1))\n",
        "\n",
        "print(f'Output examples:\\n{y_test[:5]}')\n",
        "\n",
        "# Some info about categorical_crossentropy / sparse_categorical_crossentropy etc.:\n",
        "# https://datascience.stackexchange.com/questions/41921/sparse-categorical-crossentropy-vs-categorical-crossentropy-keras-accuracy\n",
        "# https://stackoverflow.com/questions/58565394/what-is-the-difference-between-sparse-categorical-crossentropy-and-categorical-c\n",
        "\n",
        "# note: in both cases, an output layer of size NUM_CLASSES with a softmax should be used.\n",
        "# see examples:\n",
        "# https://www.tensorflow.org/api_docs/python/tf/keras/losses/CategoricalCrossentropy#standalone_usage_2\n",
        "# https://www.tensorflow.org/api_docs/python/tf/keras/losses/SparseCategoricalCrossentropy#standalone_usage\n",
        "\n",
        "early_stopping_callback = keras.callbacks.EarlyStopping(\n",
        "    patience=8,\n",
        "    min_delta=0.001,\n",
        "    restore_best_weights=True,\n",
        "    verbose=1\n",
        ")\n",
        "reduce_lr_callback = keras.callbacks.ReduceLROnPlateau(monitor='val_loss', factor=0.5, patience=4, verbose=1)"
      ],
      "execution_count": null,
      "outputs": [
        {
          "output_type": "stream",
          "text": [
            "Output examples:\n",
            "[[0. 0. 1. 0. 0. 0. 0. 0. 0. 0.]\n",
            " [0. 1. 0. 0. 0. 0. 0. 0. 0. 0.]\n",
            " [0. 0. 0. 0. 0. 1. 0. 0. 0. 0.]\n",
            " [0. 0. 0. 0. 0. 0. 0. 0. 1. 0.]\n",
            " [0. 0. 0. 0. 0. 0. 0. 0. 0. 1.]]\n"
          ],
          "name": "stdout"
        }
      ]
    },
    {
      "cell_type": "markdown",
      "metadata": {
        "id": "hc-g1R1LIiWi"
      },
      "source": [
        "## Architecture"
      ]
    },
    {
      "cell_type": "code",
      "metadata": {
        "colab": {
          "base_uri": "https://localhost:8080/"
        },
        "id": "XXX4TDRjvRni",
        "outputId": "9f5d5d70-501b-49c5-fac8-e467f45aa24c"
      },
      "source": [
        "def custom_model():\n",
        "    model = keras.Sequential([\n",
        "        layers.InputLayer(IMAGE_SHAPE),\n",
        "        layers.UpSampling2D(),  # it doesn't change the results for this model, but it does improve the pretrained model. so I added it here so the two models are comparable.\n",
        "        layers.Conv2D(32, 3, padding='same', activation='relu'),\n",
        "        layers.MaxPool2D(2),\n",
        "        layers.Dropout(0.3),\n",
        "\n",
        "        layers.Conv2D(64, 3, padding='same', activation='relu'),\n",
        "        layers.MaxPool2D(2),\n",
        "        layers.Dropout(0.3),\n",
        "\n",
        "        layers.Conv2D(128, 3, padding='same', activation='relu'),\n",
        "        layers.MaxPool2D(2),\n",
        "        layers.Dropout(0.3),\n",
        "\n",
        "        layers.Flatten(),\n",
        "\n",
        "        layers.Dense(1024, activation='relu'),\n",
        "        layers.Dropout(0.3),\n",
        "\n",
        "        layers.Dense(1024, activation='relu'),\n",
        "        layers.Dropout(0.3),\n",
        "\n",
        "        layers.Dense(NUM_CLASSES, activation='softmax')\n",
        "    ])\n",
        "\n",
        "    return model, keras.optimizers.Adam(learning_rate=0.001), lambda x: x.astype('float32') / 255.0\n",
        "\n",
        "\n",
        "def pretrained_model():\n",
        "    vgg16 = tf.keras.applications.VGG16(include_top=False, input_shape=IMAGE_SHAPE_2X)  # I think we can omit the input_shape for a dynamic input shape.\n",
        "                                                                                        # I actually tried it and it worked, although I understand from the docs\n",
        "                                                                                        # that it should be specified if it's != 224 and include_top is False.\n",
        "                                                                                        # However, for a clearer summary printing, we need to specify this.\n",
        "                                                                                        # Otherwise, we would see Nones in the summary.\n",
        "    # enable training for last block only (determined by try and error)\n",
        "    # vgg16.trainable = False\n",
        "    for layer in vgg16.layers[:-4]:\n",
        "        layer.trainable = False\n",
        "    \n",
        "    # print(model.summary())  # enable to see model before modifications\n",
        "\n",
        "    # replace last layers (we didn't include the top (last) layers, so we must add our own)\n",
        "    vgg16_ = keras.Sequential()\n",
        "    vgg16_.add(keras.layers.InputLayer(input_shape=IMAGE_SHAPE))  # Since we added an UpSampling layer before vgg16, the input shape is unknown,\n",
        "                                                                  # so we specify it here. But it's only necessary for printing the summary before fitting.\n",
        "                                                                  # Otherwise it's not needed and the shape is inferred.\n",
        "    vgg16_.add(keras.layers.UpSampling2D())\n",
        "    vgg16_.add(vgg16)  # add vgg16 as a blackbox\n",
        "    vgg16_.add(keras.layers.Flatten(name='flatten'))\n",
        "    vgg16_.add(keras.layers.Dense(4096, activation='relu', name='fc1'))\n",
        "    vgg16_.add(keras.layers.Dense(4096, activation='relu', name='fc2'))\n",
        "    vgg16_.add(keras.layers.Dense(10, activation='softmax', name='predictions'))\n",
        "\n",
        "    return vgg16_, keras.optimizers.Adam(learning_rate=0.0001), tf.keras.applications.vgg16.preprocess_input\n",
        "\n",
        "\n",
        "if MODEL_TYPE == ModelType.CUSTOM_MODEL:\n",
        "    model, optim, scaler = custom_model()\n",
        "else:  # pretrained\n",
        "    model, optim, scaler = pretrained_model()\n",
        "\n",
        "x_train, x_test = scaler(x_train), scaler(x_test)\n",
        "model.summary()\n",
        "model.compile(optimizer=optim, loss=loss, metrics=['accuracy'])"
      ],
      "execution_count": null,
      "outputs": [
        {
          "output_type": "stream",
          "text": [
            "Model: \"sequential_10\"\n",
            "_________________________________________________________________\n",
            "Layer (type)                 Output Shape              Param #   \n",
            "=================================================================\n",
            "up_sampling2d_10 (UpSampling (None, 64, 64, 3)         0         \n",
            "_________________________________________________________________\n",
            "conv2d (Conv2D)              (None, 64, 64, 32)        896       \n",
            "_________________________________________________________________\n",
            "max_pooling2d (MaxPooling2D) (None, 32, 32, 32)        0         \n",
            "_________________________________________________________________\n",
            "dropout (Dropout)            (None, 32, 32, 32)        0         \n",
            "_________________________________________________________________\n",
            "conv2d_1 (Conv2D)            (None, 32, 32, 64)        18496     \n",
            "_________________________________________________________________\n",
            "max_pooling2d_1 (MaxPooling2 (None, 16, 16, 64)        0         \n",
            "_________________________________________________________________\n",
            "dropout_1 (Dropout)          (None, 16, 16, 64)        0         \n",
            "_________________________________________________________________\n",
            "conv2d_2 (Conv2D)            (None, 16, 16, 128)       73856     \n",
            "_________________________________________________________________\n",
            "max_pooling2d_2 (MaxPooling2 (None, 8, 8, 128)         0         \n",
            "_________________________________________________________________\n",
            "dropout_2 (Dropout)          (None, 8, 8, 128)         0         \n",
            "_________________________________________________________________\n",
            "flatten (Flatten)            (None, 8192)              0         \n",
            "_________________________________________________________________\n",
            "dense (Dense)                (None, 1024)              8389632   \n",
            "_________________________________________________________________\n",
            "dropout_3 (Dropout)          (None, 1024)              0         \n",
            "_________________________________________________________________\n",
            "dense_1 (Dense)              (None, 1024)              1049600   \n",
            "_________________________________________________________________\n",
            "dropout_4 (Dropout)          (None, 1024)              0         \n",
            "_________________________________________________________________\n",
            "dense_2 (Dense)              (None, 10)                10250     \n",
            "=================================================================\n",
            "Total params: 9,542,730\n",
            "Trainable params: 9,542,730\n",
            "Non-trainable params: 0\n",
            "_________________________________________________________________\n"
          ],
          "name": "stdout"
        }
      ]
    },
    {
      "cell_type": "markdown",
      "metadata": {
        "id": "rOy-DrXtIy89"
      },
      "source": [
        "## Fit model"
      ]
    },
    {
      "cell_type": "code",
      "metadata": {
        "colab": {
          "base_uri": "https://localhost:8080/"
        },
        "id": "J8x600FjIzRT",
        "outputId": "2eb3ecdb-9d46-42c7-e615-b378557ae052"
      },
      "source": [
        "if MODEL_TYPE == ModelType.CUSTOM_MODEL:\n",
        "    # data augmentation\n",
        "    train_datagen = ImageDataGenerator(width_shift_range=0.1, height_shift_range=0.1, horizontal_flip=True,\n",
        "                                    validation_split=VAL_SPLIT)\n",
        "else:  # pretrained\n",
        "    train_datagen = ImageDataGenerator(validation_split=VAL_SPLIT)\n",
        "\n",
        "train_generator = train_datagen.flow(\n",
        "    x_train, y_train,\n",
        "    batch_size=BATCH_SIZE,\n",
        "    subset='training') # set as training data\n",
        "\n",
        "# train_datagen.fit(train_generator)  # not needed in our case\n",
        "\n",
        "validation_generator = train_datagen.flow(\n",
        "    x_train, y_train,\n",
        "    batch_size=BATCH_SIZE,\n",
        "    subset='validation') # set as validation data\n",
        "\n",
        "history = model.fit(\n",
        "    train_generator,  # x, y, batch size\n",
        "    validation_data = validation_generator,\n",
        "    batch_size=BATCH_SIZE,\n",
        "    callbacks=[early_stopping_callback, reduce_lr_callback],\n",
        "    epochs = EPOCHS,\n",
        "    verbose = 2)\n",
        "\n",
        "# Note: we can simply do model.fit(x, y, batch_size=batch, validation_split=VAL_SPLIT, ...) instead of the generator if we don't want data augmentation.\n",
        "# The reason I'm using a generator in the pretrained model even though I'm not using data augmentation there, is to make it generic with the other model.\n",
        "\n",
        "model.save(CUSTOM_MODEL_NAME if MODEL_TYPE == ModelType.CUSTOM_MODEL else PRETRAINED_MODEL_NAME)"
      ],
      "execution_count": null,
      "outputs": [
        {
          "output_type": "stream",
          "text": [
            "Epoch 1/65\n",
            "665/665 - 21s - loss: 1.6874 - accuracy: 0.3828 - val_loss: 1.3989 - val_accuracy: 0.4985\n",
            "Epoch 2/65\n",
            "665/665 - 20s - loss: 1.3322 - accuracy: 0.5199 - val_loss: 1.2867 - val_accuracy: 0.5397\n",
            "Epoch 3/65\n",
            "665/665 - 20s - loss: 1.1857 - accuracy: 0.5797 - val_loss: 1.1045 - val_accuracy: 0.6039\n",
            "Epoch 4/65\n",
            "665/665 - 20s - loss: 1.1078 - accuracy: 0.6065 - val_loss: 1.0949 - val_accuracy: 0.6148\n",
            "Epoch 5/65\n",
            "665/665 - 20s - loss: 1.0525 - accuracy: 0.6264 - val_loss: 1.0076 - val_accuracy: 0.6453\n",
            "Epoch 6/65\n",
            "665/665 - 19s - loss: 0.9978 - accuracy: 0.6488 - val_loss: 0.9035 - val_accuracy: 0.6803\n",
            "Epoch 7/65\n",
            "665/665 - 20s - loss: 0.9597 - accuracy: 0.6607 - val_loss: 0.8269 - val_accuracy: 0.7133\n",
            "Epoch 8/65\n",
            "665/665 - 20s - loss: 0.9291 - accuracy: 0.6735 - val_loss: 0.8787 - val_accuracy: 0.6896\n",
            "Epoch 9/65\n",
            "665/665 - 19s - loss: 0.9025 - accuracy: 0.6838 - val_loss: 0.8256 - val_accuracy: 0.7133\n",
            "Epoch 10/65\n",
            "665/665 - 19s - loss: 0.8816 - accuracy: 0.6918 - val_loss: 0.8140 - val_accuracy: 0.7192\n",
            "Epoch 11/65\n",
            "665/665 - 19s - loss: 0.8555 - accuracy: 0.7000 - val_loss: 0.7963 - val_accuracy: 0.7176\n",
            "Epoch 12/65\n",
            "665/665 - 19s - loss: 0.8404 - accuracy: 0.7044 - val_loss: 0.7567 - val_accuracy: 0.7393\n",
            "Epoch 13/65\n",
            "665/665 - 19s - loss: 0.8298 - accuracy: 0.7071 - val_loss: 0.8075 - val_accuracy: 0.7179\n",
            "Epoch 14/65\n",
            "665/665 - 19s - loss: 0.8169 - accuracy: 0.7136 - val_loss: 0.7998 - val_accuracy: 0.7205\n",
            "Epoch 15/65\n",
            "665/665 - 19s - loss: 0.8048 - accuracy: 0.7190 - val_loss: 0.7375 - val_accuracy: 0.7423\n",
            "Epoch 16/65\n",
            "665/665 - 19s - loss: 0.7958 - accuracy: 0.7217 - val_loss: 0.7777 - val_accuracy: 0.7319\n",
            "Epoch 17/65\n",
            "665/665 - 19s - loss: 0.7890 - accuracy: 0.7246 - val_loss: 0.8347 - val_accuracy: 0.7055\n",
            "Epoch 18/65\n",
            "665/665 - 19s - loss: 0.7800 - accuracy: 0.7268 - val_loss: 0.7954 - val_accuracy: 0.7215\n",
            "Epoch 19/65\n",
            "665/665 - 19s - loss: 0.7713 - accuracy: 0.7284 - val_loss: 0.7702 - val_accuracy: 0.7267\n",
            "Epoch 20/65\n",
            "665/665 - 19s - loss: 0.7589 - accuracy: 0.7342 - val_loss: 0.7671 - val_accuracy: 0.7363\n",
            "\n",
            "Epoch 00020: ReduceLROnPlateau reducing learning rate to 0.0005000000237487257.\n",
            "Epoch 21/65\n",
            "665/665 - 19s - loss: 0.6870 - accuracy: 0.7581 - val_loss: 0.6895 - val_accuracy: 0.7589\n",
            "Epoch 22/65\n",
            "665/665 - 19s - loss: 0.6786 - accuracy: 0.7607 - val_loss: 0.6854 - val_accuracy: 0.7631\n",
            "Epoch 23/65\n",
            "665/665 - 19s - loss: 0.6591 - accuracy: 0.7683 - val_loss: 0.6719 - val_accuracy: 0.7695\n",
            "Epoch 24/65\n",
            "665/665 - 19s - loss: 0.6578 - accuracy: 0.7679 - val_loss: 0.7138 - val_accuracy: 0.7555\n",
            "Epoch 25/65\n",
            "665/665 - 19s - loss: 0.6493 - accuracy: 0.7704 - val_loss: 0.6668 - val_accuracy: 0.7699\n",
            "Epoch 26/65\n",
            "665/665 - 19s - loss: 0.6409 - accuracy: 0.7743 - val_loss: 0.6598 - val_accuracy: 0.7719\n",
            "Epoch 27/65\n",
            "665/665 - 19s - loss: 0.6342 - accuracy: 0.7748 - val_loss: 0.7092 - val_accuracy: 0.7613\n",
            "Epoch 28/65\n",
            "665/665 - 19s - loss: 0.6277 - accuracy: 0.7790 - val_loss: 0.6726 - val_accuracy: 0.7723\n",
            "Epoch 29/65\n",
            "665/665 - 19s - loss: 0.6240 - accuracy: 0.7807 - val_loss: 0.6443 - val_accuracy: 0.7796\n",
            "Epoch 30/65\n",
            "665/665 - 19s - loss: 0.6187 - accuracy: 0.7813 - val_loss: 0.7130 - val_accuracy: 0.7536\n",
            "Epoch 31/65\n",
            "665/665 - 19s - loss: 0.6119 - accuracy: 0.7830 - val_loss: 0.6569 - val_accuracy: 0.7731\n",
            "Epoch 32/65\n",
            "665/665 - 19s - loss: 0.6012 - accuracy: 0.7884 - val_loss: 0.7234 - val_accuracy: 0.7571\n",
            "Epoch 33/65\n",
            "665/665 - 19s - loss: 0.5977 - accuracy: 0.7885 - val_loss: 0.7191 - val_accuracy: 0.7557\n",
            "Epoch 34/65\n",
            "665/665 - 19s - loss: 0.5977 - accuracy: 0.7896 - val_loss: 0.6447 - val_accuracy: 0.7797\n",
            "\n",
            "Epoch 00034: ReduceLROnPlateau reducing learning rate to 0.0002500000118743628.\n",
            "Epoch 35/65\n",
            "665/665 - 19s - loss: 0.5633 - accuracy: 0.7986 - val_loss: 0.6394 - val_accuracy: 0.7843\n",
            "Epoch 36/65\n",
            "665/665 - 19s - loss: 0.5513 - accuracy: 0.8045 - val_loss: 0.6324 - val_accuracy: 0.7856\n",
            "Epoch 37/65\n",
            "665/665 - 19s - loss: 0.5454 - accuracy: 0.8057 - val_loss: 0.6319 - val_accuracy: 0.7876\n",
            "Epoch 38/65\n",
            "665/665 - 19s - loss: 0.5433 - accuracy: 0.8082 - val_loss: 0.6287 - val_accuracy: 0.7913\n",
            "Epoch 39/65\n",
            "665/665 - 19s - loss: 0.5392 - accuracy: 0.8085 - val_loss: 0.6551 - val_accuracy: 0.7797\n",
            "Epoch 40/65\n",
            "665/665 - 19s - loss: 0.5318 - accuracy: 0.8117 - val_loss: 0.6091 - val_accuracy: 0.7967\n",
            "Epoch 41/65\n",
            "665/665 - 19s - loss: 0.5355 - accuracy: 0.8108 - val_loss: 0.6255 - val_accuracy: 0.7816\n",
            "Epoch 42/65\n",
            "665/665 - 19s - loss: 0.5300 - accuracy: 0.8124 - val_loss: 0.6795 - val_accuracy: 0.7757\n",
            "Epoch 43/65\n",
            "665/665 - 19s - loss: 0.5223 - accuracy: 0.8153 - val_loss: 0.6331 - val_accuracy: 0.7896\n",
            "Epoch 44/65\n",
            "665/665 - 19s - loss: 0.5198 - accuracy: 0.8153 - val_loss: 0.6459 - val_accuracy: 0.7792\n",
            "Epoch 45/65\n",
            "665/665 - 19s - loss: 0.5105 - accuracy: 0.8190 - val_loss: 0.6354 - val_accuracy: 0.7905\n",
            "\n",
            "Epoch 00045: ReduceLROnPlateau reducing learning rate to 0.0001250000059371814.\n",
            "Epoch 46/65\n",
            "665/665 - 19s - loss: 0.4991 - accuracy: 0.8228 - val_loss: 0.6352 - val_accuracy: 0.7893\n",
            "Epoch 47/65\n",
            "665/665 - 19s - loss: 0.5008 - accuracy: 0.8221 - val_loss: 0.6294 - val_accuracy: 0.7839\n",
            "Epoch 48/65\n",
            "665/665 - 19s - loss: 0.4949 - accuracy: 0.8240 - val_loss: 0.6131 - val_accuracy: 0.7979\n",
            "Restoring model weights from the end of the best epoch.\n",
            "Epoch 00048: early stopping\n",
            "INFO:tensorflow:Assets written to: custom_model/assets\n"
          ],
          "name": "stdout"
        }
      ]
    },
    {
      "cell_type": "markdown",
      "metadata": {
        "id": "hNh6zH66JYc-"
      },
      "source": [
        "## Evaluate model"
      ]
    },
    {
      "cell_type": "code",
      "metadata": {
        "colab": {
          "base_uri": "https://localhost:8080/",
          "height": 581
        },
        "id": "nWeg1bBNJXv7",
        "outputId": "a613a300-42bb-4e98-ee19-ac1b80a964bf"
      },
      "source": [
        "model.evaluate(x_test, y_test, batch_size=BATCH_SIZE, verbose=2)\n",
        "history_df = pd.DataFrame(history.history)\n",
        "loss_ax = history_df.loc[:, ['loss', 'val_loss']].plot(title=\"Cross Entropy\")\n",
        "acc_ax = history_df.loc[:, ['accuracy', 'val_accuracy']].plot(title='Accuracy')\n",
        "loss_ax.set_ylim(0, 4)\n",
        "acc_ax.set_ylim(0, 1)"
      ],
      "execution_count": null,
      "outputs": [
        {
          "output_type": "stream",
          "text": [
            "157/157 - 1s - loss: 0.5775 - accuracy: 0.8020\n"
          ],
          "name": "stdout"
        },
        {
          "output_type": "execute_result",
          "data": {
            "text/plain": [
              "(0.0, 1.0)"
            ]
          },
          "metadata": {
            "tags": []
          },
          "execution_count": 63
        },
        {
          "output_type": "display_data",
          "data": {
            "image/png": "[encoded data removed]",
            "text/plain": [
              "<Figure size 432x288 with 1 Axes>"
            ]
          },
          "metadata": {
            "tags": [],
            "needs_background": "light"
          }
        },
        {
          "output_type": "display_data",
          "data": {
            "image/png": "[encoded data removed]",
            "text/plain": [
              "<Figure size 432x288 with 1 Axes>"
            ]
          },
          "metadata": {
            "tags": [],
            "needs_background": "light"
          }
        }
      ]
    }
  ]
}